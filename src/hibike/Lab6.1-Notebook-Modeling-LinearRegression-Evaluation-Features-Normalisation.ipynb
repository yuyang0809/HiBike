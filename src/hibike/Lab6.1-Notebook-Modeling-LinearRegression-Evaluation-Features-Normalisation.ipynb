{
 "cells": [
  {
   "cell_type": "markdown",
   "metadata": {},
   "source": [
    "# Linear Regression\n",
    "The purpose of this notebook is to practice training (also known as fitting), interpreting and evaluating linear regression predictive models. \n",
    "We will use Python packages: pandas, matplotlib, statsmodels and scikit-learn.\n",
    "Besides the material presented in this notebook, please also read this [notebook](http://www.dataschool.io/linear-regression-in-python/) that is very well written, contains many useful details and gives pointers to further reading. \n",
    "\n",
    "Training a linear regression model means estimating a set of weights (one weight per feature, plus an extra weight called the bias or the intercept) on a dataset called the training set. \n",
    "\n",
    "The model estimated is a linear model taking the form:\n",
    "\n",
    "$target\\_feature = w_0 + w_1 * feature_1 + w_2*feature_2 + ...+ w_n*feature_n $\n",
    "\n",
    "The learned model can be used to predict the target feature for new examples where we know the descriptive features, but not the target feature. This is called the test example or the test data. In this notebook we will see the difference between evaluating the model on the training data and measuring the model error (in-sample error) versus evaluating the model on the test data and measuring that error (out-of-sample error). It is recommended that we always evaluate our model on a second data sample that was not used during training. This way we avoid overfitting or memorising the training data."
   ]
  },
  {
   "cell_type": "markdown",
   "metadata": {},
   "source": [
    "## Reading data"
   ]
  },
  {
   "cell_type": "code",
   "execution_count": 1,
   "metadata": {},
   "outputs": [
    {
     "data": {
      "text/html": [
       "<div>\n",
       "<style>\n",
       "    .dataframe thead tr:only-child th {\n",
       "        text-align: right;\n",
       "    }\n",
       "\n",
       "    .dataframe thead th {\n",
       "        text-align: left;\n",
       "    }\n",
       "\n",
       "    .dataframe tbody tr th {\n",
       "        vertical-align: top;\n",
       "    }\n",
       "</style>\n",
       "<table border=\"1\" class=\"dataframe\">\n",
       "  <thead>\n",
       "    <tr style=\"text-align: right;\">\n",
       "      <th></th>\n",
       "      <th>ID</th>\n",
       "      <th>Size</th>\n",
       "      <th>Floor</th>\n",
       "      <th>BroadbandRate</th>\n",
       "      <th>EnergyRating</th>\n",
       "      <th>RentalPrice</th>\n",
       "    </tr>\n",
       "  </thead>\n",
       "  <tbody>\n",
       "    <tr>\n",
       "      <th>0</th>\n",
       "      <td>1</td>\n",
       "      <td>500</td>\n",
       "      <td>4</td>\n",
       "      <td>8</td>\n",
       "      <td>C</td>\n",
       "      <td>320</td>\n",
       "    </tr>\n",
       "    <tr>\n",
       "      <th>1</th>\n",
       "      <td>2</td>\n",
       "      <td>550</td>\n",
       "      <td>7</td>\n",
       "      <td>50</td>\n",
       "      <td>A</td>\n",
       "      <td>380</td>\n",
       "    </tr>\n",
       "    <tr>\n",
       "      <th>2</th>\n",
       "      <td>3</td>\n",
       "      <td>620</td>\n",
       "      <td>9</td>\n",
       "      <td>7</td>\n",
       "      <td>A</td>\n",
       "      <td>400</td>\n",
       "    </tr>\n",
       "    <tr>\n",
       "      <th>3</th>\n",
       "      <td>4</td>\n",
       "      <td>630</td>\n",
       "      <td>5</td>\n",
       "      <td>24</td>\n",
       "      <td>B</td>\n",
       "      <td>390</td>\n",
       "    </tr>\n",
       "    <tr>\n",
       "      <th>4</th>\n",
       "      <td>5</td>\n",
       "      <td>665</td>\n",
       "      <td>8</td>\n",
       "      <td>100</td>\n",
       "      <td>C</td>\n",
       "      <td>385</td>\n",
       "    </tr>\n",
       "    <tr>\n",
       "      <th>5</th>\n",
       "      <td>6</td>\n",
       "      <td>700</td>\n",
       "      <td>4</td>\n",
       "      <td>8</td>\n",
       "      <td>B</td>\n",
       "      <td>410</td>\n",
       "    </tr>\n",
       "    <tr>\n",
       "      <th>6</th>\n",
       "      <td>7</td>\n",
       "      <td>770</td>\n",
       "      <td>10</td>\n",
       "      <td>7</td>\n",
       "      <td>B</td>\n",
       "      <td>480</td>\n",
       "    </tr>\n",
       "    <tr>\n",
       "      <th>7</th>\n",
       "      <td>8</td>\n",
       "      <td>880</td>\n",
       "      <td>12</td>\n",
       "      <td>50</td>\n",
       "      <td>A</td>\n",
       "      <td>600</td>\n",
       "    </tr>\n",
       "    <tr>\n",
       "      <th>8</th>\n",
       "      <td>9</td>\n",
       "      <td>920</td>\n",
       "      <td>14</td>\n",
       "      <td>8</td>\n",
       "      <td>C</td>\n",
       "      <td>570</td>\n",
       "    </tr>\n",
       "    <tr>\n",
       "      <th>9</th>\n",
       "      <td>10</td>\n",
       "      <td>1000</td>\n",
       "      <td>9</td>\n",
       "      <td>24</td>\n",
       "      <td>B</td>\n",
       "      <td>620</td>\n",
       "    </tr>\n",
       "  </tbody>\n",
       "</table>\n",
       "</div>"
      ],
      "text/plain": [
       "   ID  Size  Floor  BroadbandRate EnergyRating  RentalPrice\n",
       "0   1   500      4              8            C          320\n",
       "1   2   550      7             50            A          380\n",
       "2   3   620      9              7            A          400\n",
       "3   4   630      5             24            B          390\n",
       "4   5   665      8            100            C          385\n",
       "5   6   700      4              8            B          410\n",
       "6   7   770     10              7            B          480\n",
       "7   8   880     12             50            A          600\n",
       "8   9   920     14              8            C          570\n",
       "9  10  1000      9             24            B          620"
      ]
     },
     "execution_count": 1,
     "metadata": {},
     "output_type": "execute_result"
    }
   ],
   "source": [
    "# Read into a dataframe a CSV dataset with 10 example offices \n",
    "# described by 5 features (4 descriptive features: Size, Floor, BroadbandRate, EnergyRating;\n",
    "# the target feature: RentalPrice).\n",
    "\n",
    "# Imports.\n",
    "import pandas as pd\n",
    "import matplotlib.pyplot as plt\n",
    "\n",
    "# Allows plots to appear directly in the notebook.\n",
    "%matplotlib inline\n",
    "\n",
    "# Read csv file into a dataframe.\n",
    "df = pd.read_csv('Offices.csv')\n",
    "df"
   ]
  },
  {
   "cell_type": "code",
   "execution_count": 2,
   "metadata": {},
   "outputs": [
    {
     "data": {
      "text/plain": [
       "455.5"
      ]
     },
     "execution_count": 2,
     "metadata": {},
     "output_type": "execute_result"
    }
   ],
   "source": [
    "# Print the average RentalPrice in our dataset.\n",
    "# We could use this as a very simple baseline prediction model.\n",
    "# A smarter prediction model should at least improve on this baseline model.\n",
    "df.RentalPrice.mean()"
   ]
  },
  {
   "cell_type": "code",
   "execution_count": 3,
   "metadata": {},
   "outputs": [
    {
     "data": {
      "text/plain": [
       "ID                int64\n",
       "Size              int64\n",
       "Floor             int64\n",
       "BroadbandRate     int64\n",
       "EnergyRating     object\n",
       "RentalPrice       int64\n",
       "dtype: object"
      ]
     },
     "execution_count": 3,
     "metadata": {},
     "output_type": "execute_result"
    }
   ],
   "source": [
    "# Print the feature types in our dataset.\n",
    "df.dtypes"
   ]
  },
  {
   "cell_type": "markdown",
   "metadata": {},
   "source": [
    "## Understanding data"
   ]
  },
  {
   "cell_type": "code",
   "execution_count": 4,
   "metadata": {},
   "outputs": [
    {
     "data": {
      "text/html": [
       "<div>\n",
       "<style>\n",
       "    .dataframe thead tr:only-child th {\n",
       "        text-align: right;\n",
       "    }\n",
       "\n",
       "    .dataframe thead th {\n",
       "        text-align: left;\n",
       "    }\n",
       "\n",
       "    .dataframe tbody tr th {\n",
       "        vertical-align: top;\n",
       "    }\n",
       "</style>\n",
       "<table border=\"1\" class=\"dataframe\">\n",
       "  <thead>\n",
       "    <tr style=\"text-align: right;\">\n",
       "      <th></th>\n",
       "      <th>Size</th>\n",
       "      <th>Floor</th>\n",
       "      <th>BroadbandRate</th>\n",
       "      <th>RentalPrice</th>\n",
       "    </tr>\n",
       "  </thead>\n",
       "  <tbody>\n",
       "    <tr>\n",
       "      <th>Size</th>\n",
       "      <td>1.000000</td>\n",
       "      <td>0.710863</td>\n",
       "      <td>-0.069117</td>\n",
       "      <td>0.971262</td>\n",
       "    </tr>\n",
       "    <tr>\n",
       "      <th>Floor</th>\n",
       "      <td>0.710863</td>\n",
       "      <td>1.000000</td>\n",
       "      <td>0.054897</td>\n",
       "      <td>0.766020</td>\n",
       "    </tr>\n",
       "    <tr>\n",
       "      <th>BroadbandRate</th>\n",
       "      <td>-0.069117</td>\n",
       "      <td>0.054897</td>\n",
       "      <td>1.000000</td>\n",
       "      <td>-0.068597</td>\n",
       "    </tr>\n",
       "    <tr>\n",
       "      <th>RentalPrice</th>\n",
       "      <td>0.971262</td>\n",
       "      <td>0.766020</td>\n",
       "      <td>-0.068597</td>\n",
       "      <td>1.000000</td>\n",
       "    </tr>\n",
       "  </tbody>\n",
       "</table>\n",
       "</div>"
      ],
      "text/plain": [
       "                   Size     Floor  BroadbandRate  RentalPrice\n",
       "Size           1.000000  0.710863      -0.069117     0.971262\n",
       "Floor          0.710863  1.000000       0.054897     0.766020\n",
       "BroadbandRate -0.069117  0.054897       1.000000    -0.068597\n",
       "RentalPrice    0.971262  0.766020      -0.068597     1.000000"
      ]
     },
     "execution_count": 4,
     "metadata": {},
     "output_type": "execute_result"
    }
   ],
   "source": [
    "# Look at correlations for all the continuous features.\n",
    "df[['Size', 'Floor', 'BroadbandRate', 'RentalPrice']].corr()"
   ]
  },
  {
   "cell_type": "code",
   "execution_count": 5,
   "metadata": {},
   "outputs": [
    {
     "data": {
      "text/plain": [
       "0.9712620608629573"
      ]
     },
     "execution_count": 5,
     "metadata": {},
     "output_type": "execute_result"
    }
   ],
   "source": [
    "# The correlation for a given pair of features\n",
    "df[['Size', 'RentalPrice']].corr().as_matrix()[0,1]"
   ]
  },
  {
   "cell_type": "code",
   "execution_count": 6,
   "metadata": {},
   "outputs": [
    {
     "data": {
      "text/plain": [
       "<matplotlib.axes._subplots.AxesSubplot at 0x115f47400>"
      ]
     },
     "execution_count": 6,
     "metadata": {},
     "output_type": "execute_result"
    },
    {
     "data": {
      "image/png": "[encoded data removed]",
      "text/plain": [
       "<matplotlib.figure.Figure at 0x10da2bf28>"
      ]
     },
     "metadata": {},
     "output_type": "display_data"
    }
   ],
   "source": [
    "# Scatterplots for each descriptive feature and target feature. \n",
    "# Show the correlation value in the plot.\n",
    "fig, axs = plt.subplots(1, 3, sharey=True)\n",
    "df.plot(kind='scatter', x='Size', y='RentalPrice', label=\"%.3f\" % df[['Size', 'RentalPrice']].corr().as_matrix()[0,1], ax=axs[0], figsize=(15, 8))\n",
    "df.plot(kind='scatter', x='Floor', y='RentalPrice', label=\"%.3f\" % df[['Floor', 'RentalPrice']].corr().as_matrix()[0,1], ax=axs[1])\n",
    "df.plot(kind='scatter', x='BroadbandRate', y='RentalPrice', label=\"%.3f\" % df[['BroadbandRate', 'RentalPrice']].corr().as_matrix()[0,1], ax=axs[2])"
   ]
  },
  {
   "cell_type": "markdown",
   "metadata": {},
   "source": [
    "# Linear regression with package <span style=\"color:red\">statsmodels</span>\n",
    "\n",
    "## Simple linear regression (one descriptive feature)\n",
    "### Training a model"
   ]
  },
  {
   "cell_type": "code",
   "execution_count": 9,
   "metadata": {},
   "outputs": [
    {
     "name": "stdout",
     "output_type": "stream",
     "text": [
      "Intercept    6.46690\n",
      "Size         0.62064\n",
      "dtype: float64\n"
     ]
    }
   ],
   "source": [
    "#Import statsmodels package for training a linear regression model.\n",
    "import statsmodels.formula.api as sm\n",
    "\n",
    "# The formula specifies the target feature and the descriptive features used for training the \n",
    "# linear regression model.\n",
    "# We first train a simple linear regression with only one descriptive feature (Size).\n",
    "# For training the model we call the method fit() on the given data stored in our df dataframe.\n",
    "lm = sm.ols(formula=\"RentalPrice ~  Size\", data=df).fit()\n",
    "\n",
    "# Print the model weights/parameters\n",
    "print(lm.params)"
   ]
  },
  {
   "cell_type": "markdown",
   "metadata": {},
   "source": [
    "### Testing the model\n",
    "Using the trained model to predict the target feature RentalPrice, given the descriptive feature Size."
   ]
  },
  {
   "cell_type": "code",
   "execution_count": 99,
   "metadata": {},
   "outputs": [
    {
     "data": {
      "text/html": [
       "<div>\n",
       "<style>\n",
       "    .dataframe thead tr:only-child th {\n",
       "        text-align: right;\n",
       "    }\n",
       "\n",
       "    .dataframe thead th {\n",
       "        text-align: left;\n",
       "    }\n",
       "\n",
       "    .dataframe tbody tr th {\n",
       "        vertical-align: top;\n",
       "    }\n",
       "</style>\n",
       "<table border=\"1\" class=\"dataframe\">\n",
       "  <thead>\n",
       "    <tr style=\"text-align: right;\">\n",
       "      <th></th>\n",
       "      <th>Size</th>\n",
       "    </tr>\n",
       "  </thead>\n",
       "  <tbody>\n",
       "    <tr>\n",
       "      <th>0</th>\n",
       "      <td>730</td>\n",
       "    </tr>\n",
       "  </tbody>\n",
       "</table>\n",
       "</div>"
      ],
      "text/plain": [
       "   Size\n",
       "0   730"
      ]
     },
     "execution_count": 99,
     "metadata": {},
     "output_type": "execute_result"
    }
   ],
   "source": [
    "# The model learned is: RentalPrice = 6.46690 + 0.62064 * Size\n",
    "# This means that for a unit increase in Size, we have a 0.62064 increase in RentalPrice.\n",
    "# We can use the learned model to predict the RentalPrice for a new office Size.\n",
    "\n",
    "# The Statsmodels predict() method expects a dataframe object.\n",
    "# Create a new dataframe with a new test example. \n",
    "X_new = pd.DataFrame({'Size': [730]})\n",
    "X_new.head()"
   ]
  },
  {
   "cell_type": "code",
   "execution_count": 100,
   "metadata": {},
   "outputs": [
    {
     "data": {
      "text/plain": [
       "0    459.534161\n",
       "dtype: float64"
      ]
     },
     "execution_count": 100,
     "metadata": {},
     "output_type": "execute_result"
    }
   ],
   "source": [
    "# Predict the RentalPrice for a new office with Size 730, using the trained model. \n",
    "# The predicted value is 459.53.\n",
    "lm.predict(X_new)"
   ]
  },
  {
   "cell_type": "markdown",
   "metadata": {},
   "source": [
    "### Plotting the trained model"
   ]
  },
  {
   "cell_type": "code",
   "execution_count": 101,
   "metadata": {},
   "outputs": [
    {
     "data": {
      "text/html": [
       "<div>\n",
       "<style>\n",
       "    .dataframe thead tr:only-child th {\n",
       "        text-align: right;\n",
       "    }\n",
       "\n",
       "    .dataframe thead th {\n",
       "        text-align: left;\n",
       "    }\n",
       "\n",
       "    .dataframe tbody tr th {\n",
       "        vertical-align: top;\n",
       "    }\n",
       "</style>\n",
       "<table border=\"1\" class=\"dataframe\">\n",
       "  <thead>\n",
       "    <tr style=\"text-align: right;\">\n",
       "      <th></th>\n",
       "      <th>Size</th>\n",
       "    </tr>\n",
       "  </thead>\n",
       "  <tbody>\n",
       "    <tr>\n",
       "      <th>0</th>\n",
       "      <td>500</td>\n",
       "    </tr>\n",
       "    <tr>\n",
       "      <th>1</th>\n",
       "      <td>1000</td>\n",
       "    </tr>\n",
       "  </tbody>\n",
       "</table>\n",
       "</div>"
      ],
      "text/plain": [
       "   Size\n",
       "0   500\n",
       "1  1000"
      ]
     },
     "execution_count": 101,
     "metadata": {},
     "output_type": "execute_result"
    }
   ],
   "source": [
    "# We can plot the regression line that was estimated from our trainign set.\n",
    "# First we use the trained model to predict prices for the min and max Size in our dataset.\n",
    "X_minmax = pd.DataFrame({'Size': [df.Size.min(), df.Size.max()]})\n",
    "X_minmax.head()\n"
   ]
  },
  {
   "cell_type": "code",
   "execution_count": 102,
   "metadata": {},
   "outputs": [
    {
     "data": {
      "text/plain": [
       "0    316.786941\n",
       "1    627.106983\n",
       "dtype: float64"
      ]
     },
     "execution_count": 102,
     "metadata": {},
     "output_type": "execute_result"
    }
   ],
   "source": [
    "# Make predictions for the min and max Size values and store them.\n",
    "predictions = lm.predict(X_minmax)\n",
    "predictions"
   ]
  },
  {
   "cell_type": "code",
   "execution_count": 103,
   "metadata": {},
   "outputs": [
    {
     "data": {
      "text/plain": [
       "[<matplotlib.lines.Line2D at 0x11d3bdf28>]"
      ]
     },
     "execution_count": 103,
     "metadata": {},
     "output_type": "execute_result"
    },
    {
     "data": {
      "image/png": "[encoded data removed]",
      "text/plain": [
       "<matplotlib.figure.Figure at 0x11d3bdb38>"
      ]
     },
     "metadata": {},
     "output_type": "display_data"
    }
   ],
   "source": [
    "# First, plot the observed data\n",
    "df.plot(kind='scatter', x='Size', y='RentalPrice')\n",
    "\n",
    "# Next, plot the regression line, in red.\n",
    "plt.plot(X_minmax, predictions, c='red', linewidth=2)"
   ]
  },
  {
   "cell_type": "markdown",
   "metadata": {},
   "source": [
    "### Evaluating the quality of the model on the training data"
   ]
  },
  {
   "cell_type": "code",
   "execution_count": 104,
   "metadata": {},
   "outputs": [
    {
     "name": "stdout",
     "output_type": "stream",
     "text": [
      "                            OLS Regression Results                            \n",
      "==============================================================================\n",
      "Dep. Variable:            RentalPrice   R-squared:                       0.943\n",
      "Model:                            OLS   Adj. R-squared:                  0.936\n",
      "Method:                 Least Squares   F-statistic:                     133.2\n",
      "Date:                Thu, 08 Mar 2018   Prob (F-statistic):           2.88e-06\n",
      "Time:                        13:53:40   Log-Likelihood:                -45.893\n",
      "No. Observations:                  10   AIC:                             95.79\n",
      "Df Residuals:                       8   BIC:                             96.39\n",
      "Df Model:                           1                                         \n",
      "Covariance Type:            nonrobust                                         \n",
      "==============================================================================\n",
      "                 coef    std err          t      P>|t|      [0.025      0.975]\n",
      "------------------------------------------------------------------------------\n",
      "Intercept      6.4669     39.805      0.162      0.875     -85.324      98.257\n",
      "Size           0.6206      0.054     11.542      0.000       0.497       0.745\n",
      "==============================================================================\n",
      "Omnibus:                        1.002   Durbin-Watson:                   1.545\n",
      "Prob(Omnibus):                  0.606   Jarque-Bera (JB):                0.504\n",
      "Skew:                           0.515   Prob(JB):                        0.777\n",
      "Kurtosis:                       2.612   Cond. No.                     3.50e+03\n",
      "==============================================================================\n",
      "\n",
      "Warnings:\n",
      "[1] Standard Errors assume that the covariance matrix of the errors is correctly specified.\n",
      "[2] The condition number is large, 3.5e+03. This might indicate that there are\n",
      "strong multicollinearity or other numerical problems.\n"
     ]
    },
    {
     "name": "stderr",
     "output_type": "stream",
     "text": [
      "/Users/georgianaifrim/anaconda/envs/comp47350/lib/python3.6/site-packages/scipy/stats/stats.py:1334: UserWarning: kurtosistest only valid for n>=20 ... continuing anyway, n=10\n",
      "  \"anyway, n=%i\" % int(n))\n"
     ]
    }
   ],
   "source": [
    "# Print the summary of the trained model.\n",
    "# The summary table includes several metrics for evaluating the goodness of fit of the model, \n",
    "# namely how well does this model approximate the relationship between descriptive and target features\n",
    "# in the given dataset. For details on all these metrics please consult: \n",
    "# Chapter3, An Introduction to Statistical Learning: http://www-bcf.usc.edu/~gareth/ISL/\n",
    "\n",
    "# We focus on the coeficient weight for each feature, column 'coef' in the table.\n",
    "# Some values shown in the table describe the statistical significance of the weights via a t-test \n",
    "# (p-value, column 'P>|t|' and confidence interval, column '[95.0% Conf. Int.]').\n",
    "# The t-test is a hypothesis test that checks if there is enough evidence in the data to support or reject the \n",
    "# null hypothesis.\n",
    "# Null Hypothesis: There is no relationship between Size and RentalPrice (and thus the weight of feature Size is zero)\n",
    "# Alternative Hypothesis: There is a relationship between Size and RentalPrice \n",
    "# (and thus the weight of feature Size is not equal to zero).\n",
    "# We reject the null (and thus believe the alternative) if the 95% confidence interval does not include zero.\n",
    "# For the feature weight to be statistically significant at 95% confidence level, \n",
    "# the p-value has to be lower than 0.05. \n",
    "# We can see that the Intercept weight is not found to be statistically significant (p-value=0.875).\n",
    "# The weight for feature Size is found to be statistically significant (p-value < 0.05, p-value=0.000).\n",
    "# The p-value can guide us in selecting reliable features, \n",
    "# but is not an end in itself, we still need to evaluate the different choices we make \n",
    "# (e.g., different sets of features or new features we may create to capture non-linear relationships).\n",
    "print(lm.summary())"
   ]
  },
  {
   "cell_type": "markdown",
   "metadata": {},
   "source": [
    "## Multiple linear regression (using more than one feature)\n",
    "### Training the model"
   ]
  },
  {
   "cell_type": "code",
   "execution_count": 105,
   "metadata": {},
   "outputs": [
    {
     "name": "stdout",
     "output_type": "stream",
     "text": [
      "Intercept        19.561559\n",
      "Size              0.548740\n",
      "Floor             4.963547\n",
      "BroadbandRate    -0.062095\n",
      "dtype: float64\n"
     ]
    }
   ],
   "source": [
    "# Train aka fit, a model using all continuous features.\n",
    "lm = sm.ols(formula=\"RentalPrice ~  Size + Floor + BroadbandRate\", data=df).fit()\n",
    "\n",
    "# Print the weights learned for each feature.\n",
    "print(lm.params)"
   ]
  },
  {
   "cell_type": "markdown",
   "metadata": {},
   "source": [
    "### Evaluating the model on training data (p-values, R-squared)"
   ]
  },
  {
   "cell_type": "code",
   "execution_count": 106,
   "metadata": {},
   "outputs": [
    {
     "name": "stdout",
     "output_type": "stream",
     "text": [
      "                            OLS Regression Results                            \n",
      "==============================================================================\n",
      "Dep. Variable:            RentalPrice   R-squared:                       0.955\n",
      "Model:                            OLS   Adj. R-squared:                  0.933\n",
      "Method:                 Least Squares   F-statistic:                     42.65\n",
      "Date:                Thu, 08 Mar 2018   Prob (F-statistic):           0.000193\n",
      "Time:                        13:53:42   Log-Likelihood:                -44.718\n",
      "No. Observations:                  10   AIC:                             97.44\n",
      "Df Residuals:                       6   BIC:                             98.65\n",
      "Df Model:                           3                                         \n",
      "Covariance Type:            nonrobust                                         \n",
      "=================================================================================\n",
      "                    coef    std err          t      P>|t|      [0.025      0.975]\n",
      "---------------------------------------------------------------------------------\n",
      "Intercept        19.5616     43.645      0.448      0.670     -87.233     126.356\n",
      "Size              0.5487      0.079      6.907      0.000       0.354       0.743\n",
      "Floor             4.9635      3.938      1.260      0.254      -4.673      14.601\n",
      "BroadbandRate    -0.0621      0.305     -0.204      0.845      -0.808       0.684\n",
      "==============================================================================\n",
      "Omnibus:                        0.530   Durbin-Watson:                   2.432\n",
      "Prob(Omnibus):                  0.767   Jarque-Bera (JB):                0.390\n",
      "Skew:                           0.396   Prob(JB):                        0.823\n",
      "Kurtosis:                       2.444   Cond. No.                     3.74e+03\n",
      "==============================================================================\n",
      "\n",
      "Warnings:\n",
      "[1] Standard Errors assume that the covariance matrix of the errors is correctly specified.\n",
      "[2] The condition number is large, 3.74e+03. This might indicate that there are\n",
      "strong multicollinearity or other numerical problems.\n"
     ]
    },
    {
     "name": "stderr",
     "output_type": "stream",
     "text": [
      "/Users/georgianaifrim/anaconda/envs/comp47350/lib/python3.6/site-packages/scipy/stats/stats.py:1334: UserWarning: kurtosistest only valid for n>=20 ... continuing anyway, n=10\n",
      "  \"anyway, n=%i\" % int(n))\n"
     ]
    }
   ],
   "source": [
    "# Print the table with feature weights, statistical confidence (p-values, confidence intervals) \n",
    "# and goodness of fit metrics (e.g., R-squared, Log-likelihood, AIB, BIC).\n",
    "# Only feature Size is found to be statistically significant (p-value is smaller than 0.05, p-value=0).\n",
    "# If the 95% confidence interval includes zero, the p-value for that coefficient will be greater than 0.05.\n",
    "\n",
    "# The most common metric to evaluate the overall fit of a linear model is the R-squared value. \n",
    "# R-squared is the reduction in error over the null model which simply predicts \n",
    "# the mean target feature value in the given dataset (e.g., in our dataset the average RentalPrice is 455.5, \n",
    "# the null model is RentalPrice = 455.5, which only has an intercept, all other weights are zero). \n",
    "\n",
    "# R-squared is also interpreted as the proportion of variance in the observed data \n",
    "# that is explained by the model. R-squared is between 0 and 1, and higher is better \n",
    "# because it means that more variance is explained by the model. \n",
    "# We can use R-squared to compare different models, e.g., the simple regression model with only feature Size has \n",
    "# R-squared of 0.943, while including the other continuous features leads to a model with higher R-squared of 0.955.\n",
    "# This looks like a better model looking at the R-squared measure, but this could be due to \n",
    "# over-fitting the training data. We also need to make predictions on out-of-sample, also called test data,\n",
    "# and then compare the results to make sure the model generalises to new data and does not only \n",
    "# capture insignificant details in the sample training data, a problem called over-fitting of the training data.\n",
    "print(lm.summary())"
   ]
  },
  {
   "cell_type": "code",
   "execution_count": 107,
   "metadata": {},
   "outputs": [
    {
     "data": {
      "text/plain": [
       "ID                 1\n",
       "Size             500\n",
       "Floor              4\n",
       "BroadbandRate      7\n",
       "EnergyRating       A\n",
       "RentalPrice      320\n",
       "dtype: object"
      ]
     },
     "execution_count": 107,
     "metadata": {},
     "output_type": "execute_result"
    }
   ],
   "source": [
    "df.min()"
   ]
  },
  {
   "cell_type": "code",
   "execution_count": 108,
   "metadata": {},
   "outputs": [
    {
     "data": {
      "text/plain": [
       "ID                 10\n",
       "Size             1000\n",
       "Floor              14\n",
       "BroadbandRate     100\n",
       "EnergyRating        C\n",
       "RentalPrice       620\n",
       "dtype: object"
      ]
     },
     "execution_count": 108,
     "metadata": {},
     "output_type": "execute_result"
    }
   ],
   "source": [
    "df.max()"
   ]
  },
  {
   "cell_type": "code",
   "execution_count": 109,
   "metadata": {},
   "outputs": [
    {
     "data": {
      "text/html": [
       "<div>\n",
       "<style>\n",
       "    .dataframe thead tr:only-child th {\n",
       "        text-align: right;\n",
       "    }\n",
       "\n",
       "    .dataframe thead th {\n",
       "        text-align: left;\n",
       "    }\n",
       "\n",
       "    .dataframe tbody tr th {\n",
       "        vertical-align: top;\n",
       "    }\n",
       "</style>\n",
       "<table border=\"1\" class=\"dataframe\">\n",
       "  <thead>\n",
       "    <tr style=\"text-align: right;\">\n",
       "      <th></th>\n",
       "      <th>Size</th>\n",
       "      <th>Floor</th>\n",
       "      <th>BroadbandRate</th>\n",
       "      <th>RentalPrice</th>\n",
       "    </tr>\n",
       "  </thead>\n",
       "  <tbody>\n",
       "    <tr>\n",
       "      <th>0</th>\n",
       "      <td>500</td>\n",
       "      <td>4</td>\n",
       "      <td>8</td>\n",
       "      <td>320</td>\n",
       "    </tr>\n",
       "    <tr>\n",
       "      <th>1</th>\n",
       "      <td>550</td>\n",
       "      <td>7</td>\n",
       "      <td>50</td>\n",
       "      <td>380</td>\n",
       "    </tr>\n",
       "    <tr>\n",
       "      <th>2</th>\n",
       "      <td>620</td>\n",
       "      <td>9</td>\n",
       "      <td>7</td>\n",
       "      <td>400</td>\n",
       "    </tr>\n",
       "    <tr>\n",
       "      <th>3</th>\n",
       "      <td>630</td>\n",
       "      <td>5</td>\n",
       "      <td>24</td>\n",
       "      <td>390</td>\n",
       "    </tr>\n",
       "    <tr>\n",
       "      <th>4</th>\n",
       "      <td>665</td>\n",
       "      <td>8</td>\n",
       "      <td>100</td>\n",
       "      <td>385</td>\n",
       "    </tr>\n",
       "    <tr>\n",
       "      <th>5</th>\n",
       "      <td>700</td>\n",
       "      <td>4</td>\n",
       "      <td>8</td>\n",
       "      <td>410</td>\n",
       "    </tr>\n",
       "    <tr>\n",
       "      <th>6</th>\n",
       "      <td>770</td>\n",
       "      <td>10</td>\n",
       "      <td>7</td>\n",
       "      <td>480</td>\n",
       "    </tr>\n",
       "    <tr>\n",
       "      <th>7</th>\n",
       "      <td>880</td>\n",
       "      <td>12</td>\n",
       "      <td>50</td>\n",
       "      <td>600</td>\n",
       "    </tr>\n",
       "    <tr>\n",
       "      <th>8</th>\n",
       "      <td>920</td>\n",
       "      <td>14</td>\n",
       "      <td>8</td>\n",
       "      <td>570</td>\n",
       "    </tr>\n",
       "    <tr>\n",
       "      <th>9</th>\n",
       "      <td>1000</td>\n",
       "      <td>9</td>\n",
       "      <td>24</td>\n",
       "      <td>620</td>\n",
       "    </tr>\n",
       "  </tbody>\n",
       "</table>\n",
       "</div>"
      ],
      "text/plain": [
       "   Size  Floor  BroadbandRate  RentalPrice\n",
       "0   500      4              8          320\n",
       "1   550      7             50          380\n",
       "2   620      9              7          400\n",
       "3   630      5             24          390\n",
       "4   665      8            100          385\n",
       "5   700      4              8          410\n",
       "6   770     10              7          480\n",
       "7   880     12             50          600\n",
       "8   920     14              8          570\n",
       "9  1000      9             24          620"
      ]
     },
     "execution_count": 109,
     "metadata": {},
     "output_type": "execute_result"
    }
   ],
   "source": [
    "#Only keep numeric columns\n",
    "df_cont = df[['Size', 'Floor', 'BroadbandRate', 'RentalPrice']]\n",
    "df_cont"
   ]
  },
  {
   "cell_type": "code",
   "execution_count": 110,
   "metadata": {},
   "outputs": [
    {
     "data": {
      "text/html": [
       "<div>\n",
       "<style>\n",
       "    .dataframe thead tr:only-child th {\n",
       "        text-align: right;\n",
       "    }\n",
       "\n",
       "    .dataframe thead th {\n",
       "        text-align: left;\n",
       "    }\n",
       "\n",
       "    .dataframe tbody tr th {\n",
       "        vertical-align: top;\n",
       "    }\n",
       "</style>\n",
       "<table border=\"1\" class=\"dataframe\">\n",
       "  <thead>\n",
       "    <tr style=\"text-align: right;\">\n",
       "      <th></th>\n",
       "      <th>Size</th>\n",
       "      <th>Floor</th>\n",
       "      <th>BroadbandRate</th>\n",
       "      <th>RentalPrice</th>\n",
       "    </tr>\n",
       "  </thead>\n",
       "  <tbody>\n",
       "    <tr>\n",
       "      <th>0</th>\n",
       "      <td>0.00</td>\n",
       "      <td>0.0</td>\n",
       "      <td>0.010753</td>\n",
       "      <td>0.000000</td>\n",
       "    </tr>\n",
       "    <tr>\n",
       "      <th>1</th>\n",
       "      <td>0.10</td>\n",
       "      <td>0.3</td>\n",
       "      <td>0.462366</td>\n",
       "      <td>0.200000</td>\n",
       "    </tr>\n",
       "    <tr>\n",
       "      <th>2</th>\n",
       "      <td>0.24</td>\n",
       "      <td>0.5</td>\n",
       "      <td>0.000000</td>\n",
       "      <td>0.266667</td>\n",
       "    </tr>\n",
       "    <tr>\n",
       "      <th>3</th>\n",
       "      <td>0.26</td>\n",
       "      <td>0.1</td>\n",
       "      <td>0.182796</td>\n",
       "      <td>0.233333</td>\n",
       "    </tr>\n",
       "    <tr>\n",
       "      <th>4</th>\n",
       "      <td>0.33</td>\n",
       "      <td>0.4</td>\n",
       "      <td>1.000000</td>\n",
       "      <td>0.216667</td>\n",
       "    </tr>\n",
       "    <tr>\n",
       "      <th>5</th>\n",
       "      <td>0.40</td>\n",
       "      <td>0.0</td>\n",
       "      <td>0.010753</td>\n",
       "      <td>0.300000</td>\n",
       "    </tr>\n",
       "    <tr>\n",
       "      <th>6</th>\n",
       "      <td>0.54</td>\n",
       "      <td>0.6</td>\n",
       "      <td>0.000000</td>\n",
       "      <td>0.533333</td>\n",
       "    </tr>\n",
       "    <tr>\n",
       "      <th>7</th>\n",
       "      <td>0.76</td>\n",
       "      <td>0.8</td>\n",
       "      <td>0.462366</td>\n",
       "      <td>0.933333</td>\n",
       "    </tr>\n",
       "    <tr>\n",
       "      <th>8</th>\n",
       "      <td>0.84</td>\n",
       "      <td>1.0</td>\n",
       "      <td>0.010753</td>\n",
       "      <td>0.833333</td>\n",
       "    </tr>\n",
       "    <tr>\n",
       "      <th>9</th>\n",
       "      <td>1.00</td>\n",
       "      <td>0.5</td>\n",
       "      <td>0.182796</td>\n",
       "      <td>1.000000</td>\n",
       "    </tr>\n",
       "  </tbody>\n",
       "</table>\n",
       "</div>"
      ],
      "text/plain": [
       "   Size  Floor  BroadbandRate  RentalPrice\n",
       "0  0.00    0.0       0.010753     0.000000\n",
       "1  0.10    0.3       0.462366     0.200000\n",
       "2  0.24    0.5       0.000000     0.266667\n",
       "3  0.26    0.1       0.182796     0.233333\n",
       "4  0.33    0.4       1.000000     0.216667\n",
       "5  0.40    0.0       0.010753     0.300000\n",
       "6  0.54    0.6       0.000000     0.533333\n",
       "7  0.76    0.8       0.462366     0.933333\n",
       "8  0.84    1.0       0.010753     0.833333\n",
       "9  1.00    0.5       0.182796     1.000000"
      ]
     },
     "execution_count": 110,
     "metadata": {},
     "output_type": "execute_result"
    }
   ],
   "source": [
    "#Range normalise all columns\n",
    "df_norm = (df_cont - df_cont.min()) / (df_cont.max() - df_cont.min())\n",
    "df_norm"
   ]
  },
  {
   "cell_type": "code",
   "execution_count": 111,
   "metadata": {},
   "outputs": [
    {
     "data": {
      "text/plain": [
       "<matplotlib.axes._subplots.AxesSubplot at 0x11df7ea20>"
      ]
     },
     "execution_count": 111,
     "metadata": {},
     "output_type": "execute_result"
    },
    {
     "data": {
      "image/png": "[encoded data removed]",
      "text/plain": [
       "<matplotlib.figure.Figure at 0x11df6ad30>"
      ]
     },
     "metadata": {},
     "output_type": "display_data"
    }
   ],
   "source": [
    "df_norm.plot(kind='scatter', x='Size', y='RentalPrice', label=\"%.3f\" % df_norm[['Size', 'RentalPrice']].corr().as_matrix()[0,1])\n",
    "#df.plot(kind='scatter', x='Floor', y='RentalPrice', label=\"%.3f\" % df[['Floor', 'RentalPrice']].corr().as_matrix()[0,1])\n",
    "#df.plot(kind='scatter', x='BroadbandRate', y='RentalPrice', label=\"%.3f\" % df[['BroadbandRate', 'RentalPrice']].corr().as_matrix()[0,1])"
   ]
  },
  {
   "cell_type": "code",
   "execution_count": 112,
   "metadata": {},
   "outputs": [
    {
     "name": "stdout",
     "output_type": "stream",
     "text": [
      "Intercept   -0.01071\n",
      "Size         1.03440\n",
      "dtype: float64\n"
     ]
    }
   ],
   "source": [
    "lm_df_norm = sm.ols(formula=\"RentalPrice ~  Size\", data=df_norm).fit()\n",
    "print(lm_df_norm.params)"
   ]
  },
  {
   "cell_type": "code",
   "execution_count": 113,
   "metadata": {},
   "outputs": [
    {
     "name": "stdout",
     "output_type": "stream",
     "text": [
      "Intercept       -0.022163\n",
      "Size             0.914566\n",
      "Floor            0.165452\n",
      "BroadbandRate   -0.019249\n",
      "dtype: float64\n"
     ]
    }
   ],
   "source": [
    "lm_df_norm = sm.ols(formula=\"RentalPrice ~  Size + Floor + BroadbandRate\", data=df_norm).fit()\n",
    "print(lm_df_norm.params)"
   ]
  },
  {
   "cell_type": "code",
   "execution_count": 114,
   "metadata": {},
   "outputs": [
    {
     "name": "stdout",
     "output_type": "stream",
     "text": [
      "                            OLS Regression Results                            \n",
      "==============================================================================\n",
      "Dep. Variable:            RentalPrice   R-squared:                       0.955\n",
      "Model:                            OLS   Adj. R-squared:                  0.933\n",
      "Method:                 Least Squares   F-statistic:                     42.65\n",
      "Date:                Thu, 08 Mar 2018   Prob (F-statistic):           0.000193\n",
      "Time:                        13:53:46   Log-Likelihood:                 12.319\n",
      "No. Observations:                  10   AIC:                            -16.64\n",
      "Df Residuals:                       6   BIC:                            -15.43\n",
      "Df Model:                           3                                         \n",
      "Covariance Type:            nonrobust                                         \n",
      "=================================================================================\n",
      "                    coef    std err          t      P>|t|      [0.025      0.975]\n",
      "---------------------------------------------------------------------------------\n",
      "Intercept        -0.0222      0.057     -0.391      0.709      -0.161       0.117\n",
      "Size              0.9146      0.132      6.907      0.000       0.591       1.239\n",
      "Floor             0.1655      0.131      1.260      0.254      -0.156       0.487\n",
      "BroadbandRate    -0.0192      0.095     -0.204      0.845      -0.250       0.212\n",
      "==============================================================================\n",
      "Omnibus:                        0.530   Durbin-Watson:                   2.432\n",
      "Prob(Omnibus):                  0.767   Jarque-Bera (JB):                0.390\n",
      "Skew:                           0.396   Prob(JB):                        0.823\n",
      "Kurtosis:                       2.444   Cond. No.                         7.35\n",
      "==============================================================================\n",
      "\n",
      "Warnings:\n",
      "[1] Standard Errors assume that the covariance matrix of the errors is correctly specified.\n"
     ]
    },
    {
     "name": "stderr",
     "output_type": "stream",
     "text": [
      "/Users/georgianaifrim/anaconda/envs/comp47350/lib/python3.6/site-packages/scipy/stats/stats.py:1334: UserWarning: kurtosistest only valid for n>=20 ... continuing anyway, n=10\n",
      "  \"anyway, n=%i\" % int(n))\n"
     ]
    }
   ],
   "source": [
    "print(lm_df_norm.summary())"
   ]
  },
  {
   "cell_type": "code",
   "execution_count": 115,
   "metadata": {},
   "outputs": [
    {
     "data": {
      "text/html": [
       "<div>\n",
       "<style>\n",
       "    .dataframe thead tr:only-child th {\n",
       "        text-align: right;\n",
       "    }\n",
       "\n",
       "    .dataframe thead th {\n",
       "        text-align: left;\n",
       "    }\n",
       "\n",
       "    .dataframe tbody tr th {\n",
       "        vertical-align: top;\n",
       "    }\n",
       "</style>\n",
       "<table border=\"1\" class=\"dataframe\">\n",
       "  <thead>\n",
       "    <tr style=\"text-align: right;\">\n",
       "      <th></th>\n",
       "      <th>Size</th>\n",
       "      <th>Floor</th>\n",
       "      <th>BroadbandRate</th>\n",
       "      <th>RentalPrice</th>\n",
       "    </tr>\n",
       "  </thead>\n",
       "  <tbody>\n",
       "    <tr>\n",
       "      <th>0</th>\n",
       "      <td>-1.354055</td>\n",
       "      <td>-1.262528</td>\n",
       "      <td>-0.679885</td>\n",
       "      <td>-1.284679</td>\n",
       "    </tr>\n",
       "    <tr>\n",
       "      <th>1</th>\n",
       "      <td>-1.051134</td>\n",
       "      <td>-0.360722</td>\n",
       "      <td>0.706288</td>\n",
       "      <td>-0.715818</td>\n",
       "    </tr>\n",
       "    <tr>\n",
       "      <th>2</th>\n",
       "      <td>-0.627046</td>\n",
       "      <td>0.240481</td>\n",
       "      <td>-0.712889</td>\n",
       "      <td>-0.526197</td>\n",
       "    </tr>\n",
       "    <tr>\n",
       "      <th>3</th>\n",
       "      <td>-0.566462</td>\n",
       "      <td>-0.961926</td>\n",
       "      <td>-0.151819</td>\n",
       "      <td>-0.621007</td>\n",
       "    </tr>\n",
       "    <tr>\n",
       "      <th>4</th>\n",
       "      <td>-0.354417</td>\n",
       "      <td>-0.060120</td>\n",
       "      <td>2.356494</td>\n",
       "      <td>-0.668412</td>\n",
       "    </tr>\n",
       "    <tr>\n",
       "      <th>5</th>\n",
       "      <td>-0.142373</td>\n",
       "      <td>-1.262528</td>\n",
       "      <td>-0.679885</td>\n",
       "      <td>-0.431387</td>\n",
       "    </tr>\n",
       "    <tr>\n",
       "      <th>6</th>\n",
       "      <td>0.281716</td>\n",
       "      <td>0.541083</td>\n",
       "      <td>-0.712889</td>\n",
       "      <td>0.232285</td>\n",
       "    </tr>\n",
       "    <tr>\n",
       "      <th>7</th>\n",
       "      <td>0.948141</td>\n",
       "      <td>1.142287</td>\n",
       "      <td>0.706288</td>\n",
       "      <td>1.370008</td>\n",
       "    </tr>\n",
       "    <tr>\n",
       "      <th>8</th>\n",
       "      <td>1.190478</td>\n",
       "      <td>1.743490</td>\n",
       "      <td>-0.679885</td>\n",
       "      <td>1.085578</td>\n",
       "    </tr>\n",
       "    <tr>\n",
       "      <th>9</th>\n",
       "      <td>1.675151</td>\n",
       "      <td>0.240481</td>\n",
       "      <td>-0.151819</td>\n",
       "      <td>1.559629</td>\n",
       "    </tr>\n",
       "  </tbody>\n",
       "</table>\n",
       "</div>"
      ],
      "text/plain": [
       "       Size     Floor  BroadbandRate  RentalPrice\n",
       "0 -1.354055 -1.262528      -0.679885    -1.284679\n",
       "1 -1.051134 -0.360722       0.706288    -0.715818\n",
       "2 -0.627046  0.240481      -0.712889    -0.526197\n",
       "3 -0.566462 -0.961926      -0.151819    -0.621007\n",
       "4 -0.354417 -0.060120       2.356494    -0.668412\n",
       "5 -0.142373 -1.262528      -0.679885    -0.431387\n",
       "6  0.281716  0.541083      -0.712889     0.232285\n",
       "7  0.948141  1.142287       0.706288     1.370008\n",
       "8  1.190478  1.743490      -0.679885     1.085578\n",
       "9  1.675151  0.240481      -0.151819     1.559629"
      ]
     },
     "execution_count": 115,
     "metadata": {},
     "output_type": "execute_result"
    }
   ],
   "source": [
    "# Trying standardisation of features, instead of range normalisation.\n",
    "df_st = (df_cont - df_cont.mean()) / df_cont.std()\n",
    "df_st"
   ]
  },
  {
   "cell_type": "code",
   "execution_count": 116,
   "metadata": {},
   "outputs": [
    {
     "name": "stdout",
     "output_type": "stream",
     "text": [
      "                            OLS Regression Results                            \n",
      "==============================================================================\n",
      "Dep. Variable:            RentalPrice   R-squared:                       0.955\n",
      "Model:                            OLS   Adj. R-squared:                  0.933\n",
      "Method:                 Least Squares   F-statistic:                     42.65\n",
      "Date:                Thu, 08 Mar 2018   Prob (F-statistic):           0.000193\n",
      "Time:                        13:53:49   Log-Likelihood:                 1.8662\n",
      "No. Observations:                  10   AIC:                             4.268\n",
      "Df Residuals:                       6   BIC:                             5.478\n",
      "Df Model:                           3                                         \n",
      "Covariance Type:            nonrobust                                         \n",
      "=================================================================================\n",
      "                    coef    std err          t      P>|t|      [0.025      0.975]\n",
      "---------------------------------------------------------------------------------\n",
      "Intercept     -5.551e-17      0.082  -6.77e-16      1.000      -0.201       0.201\n",
      "Size              0.8587      0.124      6.907      0.000       0.555       1.163\n",
      "Floor             0.1566      0.124      1.260      0.254      -0.147       0.461\n",
      "BroadbandRate    -0.0178      0.088     -0.204      0.845      -0.232       0.196\n",
      "==============================================================================\n",
      "Omnibus:                        0.530   Durbin-Watson:                   2.432\n",
      "Prob(Omnibus):                  0.767   Jarque-Bera (JB):                0.390\n",
      "Skew:                           0.396   Prob(JB):                        0.823\n",
      "Kurtosis:                       2.444   Cond. No.                         2.48\n",
      "==============================================================================\n",
      "\n",
      "Warnings:\n",
      "[1] Standard Errors assume that the covariance matrix of the errors is correctly specified.\n"
     ]
    },
    {
     "name": "stderr",
     "output_type": "stream",
     "text": [
      "/Users/georgianaifrim/anaconda/envs/comp47350/lib/python3.6/site-packages/scipy/stats/stats.py:1334: UserWarning: kurtosistest only valid for n>=20 ... continuing anyway, n=10\n",
      "  \"anyway, n=%i\" % int(n))\n"
     ]
    }
   ],
   "source": [
    "lm_df_st = sm.ols(formula=\"RentalPrice ~  Size + Floor + BroadbandRate\", data=df_st).fit()\n",
    "print(lm_df_st.summary())"
   ]
  },
  {
   "cell_type": "markdown",
   "metadata": {
    "collapsed": true
   },
   "source": [
    "### Dealing with categorical features"
   ]
  },
  {
   "cell_type": "code",
   "execution_count": 117,
   "metadata": {},
   "outputs": [
    {
     "name": "stdout",
     "output_type": "stream",
     "text": [
      "                            OLS Regression Results                            \n",
      "==============================================================================\n",
      "Dep. Variable:            RentalPrice   R-squared:                       0.044\n",
      "Model:                            OLS   Adj. R-squared:                 -0.230\n",
      "Method:                 Least Squares   F-statistic:                    0.1598\n",
      "Date:                Thu, 08 Mar 2018   Prob (F-statistic):              0.855\n",
      "Time:                        13:54:06   Log-Likelihood:                -60.024\n",
      "No. Observations:                  10   AIC:                             126.0\n",
      "Df Residuals:                       7   BIC:                             127.0\n",
      "Df Model:                           2                                         \n",
      "Covariance Type:            nonrobust                                         \n",
      "========================================================================================\n",
      "                           coef    std err          t      P>|t|      [0.025      0.975]\n",
      "----------------------------------------------------------------------------------------\n",
      "Intercept              460.0000     67.524      6.812      0.000     300.331     619.669\n",
      "C(EnergyRating)[T.B]    15.0000     89.326      0.168      0.871    -196.223     226.223\n",
      "C(EnergyRating)[T.C]   -35.0000     95.494     -0.367      0.725    -260.807     190.807\n",
      "==============================================================================\n",
      "Omnibus:                        2.888   Durbin-Watson:                   0.287\n",
      "Prob(Omnibus):                  0.236   Jarque-Bera (JB):                1.439\n",
      "Skew:                           0.641   Prob(JB):                        0.487\n",
      "Kurtosis:                       1.654   Cond. No.                         3.93\n",
      "==============================================================================\n",
      "\n",
      "Warnings:\n",
      "[1] Standard Errors assume that the covariance matrix of the errors is correctly specified.\n"
     ]
    },
    {
     "name": "stderr",
     "output_type": "stream",
     "text": [
      "/Users/georgianaifrim/anaconda/envs/comp47350/lib/python3.6/site-packages/scipy/stats/stats.py:1334: UserWarning: kurtosistest only valid for n>=20 ... continuing anyway, n=10\n",
      "  \"anyway, n=%i\" % int(n))\n"
     ]
    }
   ],
   "source": [
    "# Train a model using only the categorical feature EnergyRating\n",
    "# Statsmodels can do this directly using the C(EnergyRating) - 1, that tells the fit() method \n",
    "# that EnergyRating is a categorical feature. It internally turns it into binary features.\n",
    "# The -1 above keeps all the levels of the feature in the model. \n",
    "lm_categ = sm.ols(formula=\"RentalPrice ~ C(EnergyRating)\", data=df).fit()\n",
    "print(lm_categ.summary())"
   ]
  },
  {
   "cell_type": "code",
   "execution_count": 118,
   "metadata": {},
   "outputs": [
    {
     "name": "stdout",
     "output_type": "stream",
     "text": [
      "                            OLS Regression Results                            \n",
      "==============================================================================\n",
      "Dep. Variable:            RentalPrice   R-squared:                       0.983\n",
      "Model:                            OLS   Adj. R-squared:                  0.961\n",
      "Method:                 Least Squares   F-statistic:                     45.67\n",
      "Date:                Thu, 08 Mar 2018   Prob (F-statistic):            0.00127\n",
      "Time:                        13:54:07   Log-Likelihood:                -39.937\n",
      "No. Observations:                  10   AIC:                             91.87\n",
      "Df Residuals:                       4   BIC:                             93.69\n",
      "Df Model:                           5                                         \n",
      "Covariance Type:            nonrobust                                         \n",
      "========================================================================================\n",
      "                           coef    std err          t      P>|t|      [0.025      0.975]\n",
      "----------------------------------------------------------------------------------------\n",
      "Intercept               25.0809     34.503      0.727      0.508     -70.714     120.876\n",
      "C(EnergyRating)[T.B]   -46.5555     25.520     -1.824      0.142    -117.409      24.298\n",
      "C(EnergyRating)[T.C]   -42.0949     17.404     -2.419      0.073     -90.415       6.225\n",
      "Size                     0.6432      0.091      7.077      0.002       0.391       0.895\n",
      "Floor                    0.0167      4.591      0.004      0.997     -12.731      12.764\n",
      "BroadbandRate           -0.1325      0.250     -0.530      0.624      -0.826       0.561\n",
      "==============================================================================\n",
      "Omnibus:                        1.334   Durbin-Watson:                   2.125\n",
      "Prob(Omnibus):                  0.513   Jarque-Bera (JB):                0.890\n",
      "Skew:                          -0.451   Prob(JB):                        0.641\n",
      "Kurtosis:                       1.849   Cond. No.                     3.95e+03\n",
      "==============================================================================\n",
      "\n",
      "Warnings:\n",
      "[1] Standard Errors assume that the covariance matrix of the errors is correctly specified.\n",
      "[2] The condition number is large, 3.95e+03. This might indicate that there are\n",
      "strong multicollinearity or other numerical problems.\n"
     ]
    },
    {
     "name": "stderr",
     "output_type": "stream",
     "text": [
      "/Users/georgianaifrim/anaconda/envs/comp47350/lib/python3.6/site-packages/scipy/stats/stats.py:1334: UserWarning: kurtosistest only valid for n>=20 ... continuing anyway, n=10\n",
      "  \"anyway, n=%i\" % int(n))\n"
     ]
    }
   ],
   "source": [
    "# Train a model with all features\n",
    "lm_categ = sm.ols(formula=\"RentalPrice ~ Size +  Floor + BroadbandRate + C(EnergyRating)\", data=df).fit()\n",
    "print(lm_categ.summary())"
   ]
  },
  {
   "cell_type": "code",
   "execution_count": 119,
   "metadata": {},
   "outputs": [
    {
     "data": {
      "text/html": [
       "<div>\n",
       "<style>\n",
       "    .dataframe thead tr:only-child th {\n",
       "        text-align: right;\n",
       "    }\n",
       "\n",
       "    .dataframe thead th {\n",
       "        text-align: left;\n",
       "    }\n",
       "\n",
       "    .dataframe tbody tr th {\n",
       "        vertical-align: top;\n",
       "    }\n",
       "</style>\n",
       "<table border=\"1\" class=\"dataframe\">\n",
       "  <thead>\n",
       "    <tr style=\"text-align: right;\">\n",
       "      <th></th>\n",
       "      <th>ER_A</th>\n",
       "      <th>ER_B</th>\n",
       "      <th>ER_C</th>\n",
       "    </tr>\n",
       "  </thead>\n",
       "  <tbody>\n",
       "    <tr>\n",
       "      <th>0</th>\n",
       "      <td>0.0</td>\n",
       "      <td>0.0</td>\n",
       "      <td>1.0</td>\n",
       "    </tr>\n",
       "    <tr>\n",
       "      <th>1</th>\n",
       "      <td>1.0</td>\n",
       "      <td>0.0</td>\n",
       "      <td>0.0</td>\n",
       "    </tr>\n",
       "    <tr>\n",
       "      <th>2</th>\n",
       "      <td>1.0</td>\n",
       "      <td>0.0</td>\n",
       "      <td>0.0</td>\n",
       "    </tr>\n",
       "    <tr>\n",
       "      <th>3</th>\n",
       "      <td>0.0</td>\n",
       "      <td>1.0</td>\n",
       "      <td>0.0</td>\n",
       "    </tr>\n",
       "    <tr>\n",
       "      <th>4</th>\n",
       "      <td>0.0</td>\n",
       "      <td>0.0</td>\n",
       "      <td>1.0</td>\n",
       "    </tr>\n",
       "    <tr>\n",
       "      <th>5</th>\n",
       "      <td>0.0</td>\n",
       "      <td>1.0</td>\n",
       "      <td>0.0</td>\n",
       "    </tr>\n",
       "    <tr>\n",
       "      <th>6</th>\n",
       "      <td>0.0</td>\n",
       "      <td>1.0</td>\n",
       "      <td>0.0</td>\n",
       "    </tr>\n",
       "    <tr>\n",
       "      <th>7</th>\n",
       "      <td>1.0</td>\n",
       "      <td>0.0</td>\n",
       "      <td>0.0</td>\n",
       "    </tr>\n",
       "    <tr>\n",
       "      <th>8</th>\n",
       "      <td>0.0</td>\n",
       "      <td>0.0</td>\n",
       "      <td>1.0</td>\n",
       "    </tr>\n",
       "    <tr>\n",
       "      <th>9</th>\n",
       "      <td>0.0</td>\n",
       "      <td>1.0</td>\n",
       "      <td>0.0</td>\n",
       "    </tr>\n",
       "  </tbody>\n",
       "</table>\n",
       "</div>"
      ],
      "text/plain": [
       "   ER_A  ER_B  ER_C\n",
       "0   0.0   0.0   1.0\n",
       "1   1.0   0.0   0.0\n",
       "2   1.0   0.0   0.0\n",
       "3   0.0   1.0   0.0\n",
       "4   0.0   0.0   1.0\n",
       "5   0.0   1.0   0.0\n",
       "6   0.0   1.0   0.0\n",
       "7   1.0   0.0   0.0\n",
       "8   0.0   0.0   1.0\n",
       "9   0.0   1.0   0.0"
      ]
     },
     "execution_count": 119,
     "metadata": {},
     "output_type": "execute_result"
    }
   ],
   "source": [
    "# Explicitly turn the categorical features to continuous binary features.\n",
    "# This is helpful when we want to transform the data down the line, e.g., normalise features.\n",
    "# First method to turn categorical to continuous.\n",
    "df_ER_A = (df.EnergyRating=='A') * 1.0\n",
    "df_ER_B = (df.EnergyRating=='B') * 1.0\n",
    "df_ER_C = (df.EnergyRating=='C') * 1.0\n",
    "\n",
    "df_ER = pd.DataFrame({'ER_A': df_ER_A,\n",
    "                     'ER_B': df_ER_B,\n",
    "                     'ER_C':df_ER_C})\n",
    "df_ER"
   ]
  },
  {
   "cell_type": "code",
   "execution_count": 120,
   "metadata": {},
   "outputs": [
    {
     "data": {
      "text/html": [
       "<div>\n",
       "<style>\n",
       "    .dataframe thead tr:only-child th {\n",
       "        text-align: right;\n",
       "    }\n",
       "\n",
       "    .dataframe thead th {\n",
       "        text-align: left;\n",
       "    }\n",
       "\n",
       "    .dataframe tbody tr th {\n",
       "        vertical-align: top;\n",
       "    }\n",
       "</style>\n",
       "<table border=\"1\" class=\"dataframe\">\n",
       "  <thead>\n",
       "    <tr style=\"text-align: right;\">\n",
       "      <th></th>\n",
       "      <th>Size</th>\n",
       "      <th>Floor</th>\n",
       "      <th>BroadbandRate</th>\n",
       "      <th>RentalPrice</th>\n",
       "      <th>ER_A</th>\n",
       "      <th>ER_B</th>\n",
       "      <th>ER_C</th>\n",
       "    </tr>\n",
       "  </thead>\n",
       "  <tbody>\n",
       "    <tr>\n",
       "      <th>0</th>\n",
       "      <td>500</td>\n",
       "      <td>4</td>\n",
       "      <td>8</td>\n",
       "      <td>320</td>\n",
       "      <td>0.0</td>\n",
       "      <td>0.0</td>\n",
       "      <td>1.0</td>\n",
       "    </tr>\n",
       "    <tr>\n",
       "      <th>1</th>\n",
       "      <td>550</td>\n",
       "      <td>7</td>\n",
       "      <td>50</td>\n",
       "      <td>380</td>\n",
       "      <td>1.0</td>\n",
       "      <td>0.0</td>\n",
       "      <td>0.0</td>\n",
       "    </tr>\n",
       "    <tr>\n",
       "      <th>2</th>\n",
       "      <td>620</td>\n",
       "      <td>9</td>\n",
       "      <td>7</td>\n",
       "      <td>400</td>\n",
       "      <td>1.0</td>\n",
       "      <td>0.0</td>\n",
       "      <td>0.0</td>\n",
       "    </tr>\n",
       "    <tr>\n",
       "      <th>3</th>\n",
       "      <td>630</td>\n",
       "      <td>5</td>\n",
       "      <td>24</td>\n",
       "      <td>390</td>\n",
       "      <td>0.0</td>\n",
       "      <td>1.0</td>\n",
       "      <td>0.0</td>\n",
       "    </tr>\n",
       "    <tr>\n",
       "      <th>4</th>\n",
       "      <td>665</td>\n",
       "      <td>8</td>\n",
       "      <td>100</td>\n",
       "      <td>385</td>\n",
       "      <td>0.0</td>\n",
       "      <td>0.0</td>\n",
       "      <td>1.0</td>\n",
       "    </tr>\n",
       "    <tr>\n",
       "      <th>5</th>\n",
       "      <td>700</td>\n",
       "      <td>4</td>\n",
       "      <td>8</td>\n",
       "      <td>410</td>\n",
       "      <td>0.0</td>\n",
       "      <td>1.0</td>\n",
       "      <td>0.0</td>\n",
       "    </tr>\n",
       "    <tr>\n",
       "      <th>6</th>\n",
       "      <td>770</td>\n",
       "      <td>10</td>\n",
       "      <td>7</td>\n",
       "      <td>480</td>\n",
       "      <td>0.0</td>\n",
       "      <td>1.0</td>\n",
       "      <td>0.0</td>\n",
       "    </tr>\n",
       "    <tr>\n",
       "      <th>7</th>\n",
       "      <td>880</td>\n",
       "      <td>12</td>\n",
       "      <td>50</td>\n",
       "      <td>600</td>\n",
       "      <td>1.0</td>\n",
       "      <td>0.0</td>\n",
       "      <td>0.0</td>\n",
       "    </tr>\n",
       "    <tr>\n",
       "      <th>8</th>\n",
       "      <td>920</td>\n",
       "      <td>14</td>\n",
       "      <td>8</td>\n",
       "      <td>570</td>\n",
       "      <td>0.0</td>\n",
       "      <td>0.0</td>\n",
       "      <td>1.0</td>\n",
       "    </tr>\n",
       "    <tr>\n",
       "      <th>9</th>\n",
       "      <td>1000</td>\n",
       "      <td>9</td>\n",
       "      <td>24</td>\n",
       "      <td>620</td>\n",
       "      <td>0.0</td>\n",
       "      <td>1.0</td>\n",
       "      <td>0.0</td>\n",
       "    </tr>\n",
       "  </tbody>\n",
       "</table>\n",
       "</div>"
      ],
      "text/plain": [
       "   Size  Floor  BroadbandRate  RentalPrice  ER_A  ER_B  ER_C\n",
       "0   500      4              8          320   0.0   0.0   1.0\n",
       "1   550      7             50          380   1.0   0.0   0.0\n",
       "2   620      9              7          400   1.0   0.0   0.0\n",
       "3   630      5             24          390   0.0   1.0   0.0\n",
       "4   665      8            100          385   0.0   0.0   1.0\n",
       "5   700      4              8          410   0.0   1.0   0.0\n",
       "6   770     10              7          480   0.0   1.0   0.0\n",
       "7   880     12             50          600   1.0   0.0   0.0\n",
       "8   920     14              8          570   0.0   0.0   1.0\n",
       "9  1000      9             24          620   0.0   1.0   0.0"
      ]
     },
     "execution_count": 120,
     "metadata": {},
     "output_type": "execute_result"
    }
   ],
   "source": [
    "# Add the new columns to the data frame\n",
    "df_new = pd.concat([df_cont, df_ER], axis = 1)\n",
    "df_new"
   ]
  },
  {
   "cell_type": "code",
   "execution_count": 121,
   "metadata": {},
   "outputs": [
    {
     "name": "stdout",
     "output_type": "stream",
     "text": [
      "                            OLS Regression Results                            \n",
      "==============================================================================\n",
      "Dep. Variable:            RentalPrice   R-squared:                       0.983\n",
      "Model:                            OLS   Adj. R-squared:                  0.961\n",
      "Method:                 Least Squares   F-statistic:                     45.67\n",
      "Date:                Thu, 08 Mar 2018   Prob (F-statistic):            0.00127\n",
      "Time:                        13:54:08   Log-Likelihood:                -39.937\n",
      "No. Observations:                  10   AIC:                             91.87\n",
      "Df Residuals:                       4   BIC:                             93.69\n",
      "Df Model:                           5                                         \n",
      "Covariance Type:            nonrobust                                         \n",
      "=================================================================================\n",
      "                    coef    std err          t      P>|t|      [0.025      0.975]\n",
      "---------------------------------------------------------------------------------\n",
      "Intercept        -3.3519     27.777     -0.121      0.910     -80.473      73.769\n",
      "Size              0.6432      0.091      7.077      0.002       0.391       0.895\n",
      "Floor             0.0167      4.591      0.004      0.997     -12.731      12.764\n",
      "BroadbandRate    -0.1325      0.250     -0.530      0.624      -0.826       0.561\n",
      "ER_A             28.4328     12.481      2.278      0.085      -6.220      63.085\n",
      "ER_B            -18.1226     20.895     -0.867      0.435     -76.136      39.891\n",
      "ER_C            -13.6620     12.552     -1.088      0.338     -48.512      21.188\n",
      "==============================================================================\n",
      "Omnibus:                        1.334   Durbin-Watson:                   2.125\n",
      "Prob(Omnibus):                  0.513   Jarque-Bera (JB):                0.890\n",
      "Skew:                          -0.451   Prob(JB):                        0.641\n",
      "Kurtosis:                       1.849   Cond. No.                     1.02e+19\n",
      "==============================================================================\n",
      "\n",
      "Warnings:\n",
      "[1] Standard Errors assume that the covariance matrix of the errors is correctly specified.\n",
      "[2] The smallest eigenvalue is 5.29e-32. This might indicate that there are\n",
      "strong multicollinearity problems or that the design matrix is singular.\n"
     ]
    },
    {
     "name": "stderr",
     "output_type": "stream",
     "text": [
      "/Users/georgianaifrim/anaconda/envs/comp47350/lib/python3.6/site-packages/scipy/stats/stats.py:1334: UserWarning: kurtosistest only valid for n>=20 ... continuing anyway, n=10\n",
      "  \"anyway, n=%i\" % int(n))\n"
     ]
    }
   ],
   "source": [
    "#Train a model with all the features\n",
    "lm_df_new = sm.ols(formula=\"RentalPrice ~  Size + Floor + BroadbandRate + ER_A + ER_B + ER_C\", data=df_new).fit()\n",
    "print(lm_df_new.summary())"
   ]
  },
  {
   "cell_type": "code",
   "execution_count": 122,
   "metadata": {},
   "outputs": [
    {
     "data": {
      "text/plain": [
       "0    303.569952\n",
       "1    372.308160\n",
       "2    423.059341\n",
       "3    380.616241\n",
       "4    397.568319\n",
       "5    427.740089\n",
       "6    472.993660\n",
       "7    584.632499\n",
       "8    573.861730\n",
       "9    618.650010\n",
       "dtype: float64"
      ]
     },
     "execution_count": 122,
     "metadata": {},
     "output_type": "execute_result"
    }
   ],
   "source": [
    "lm_df_new.predict(df_new)"
   ]
  },
  {
   "cell_type": "code",
   "execution_count": 123,
   "metadata": {},
   "outputs": [
    {
     "data": {
      "text/html": [
       "<div>\n",
       "<style>\n",
       "    .dataframe thead tr:only-child th {\n",
       "        text-align: right;\n",
       "    }\n",
       "\n",
       "    .dataframe thead th {\n",
       "        text-align: left;\n",
       "    }\n",
       "\n",
       "    .dataframe tbody tr th {\n",
       "        vertical-align: top;\n",
       "    }\n",
       "</style>\n",
       "<table border=\"1\" class=\"dataframe\">\n",
       "  <thead>\n",
       "    <tr style=\"text-align: right;\">\n",
       "      <th></th>\n",
       "      <th>Size</th>\n",
       "      <th>Floor</th>\n",
       "      <th>BroadbandRate</th>\n",
       "      <th>RentalPrice</th>\n",
       "      <th>EnergyRating_A</th>\n",
       "      <th>EnergyRating_B</th>\n",
       "      <th>EnergyRating_C</th>\n",
       "    </tr>\n",
       "  </thead>\n",
       "  <tbody>\n",
       "    <tr>\n",
       "      <th>0</th>\n",
       "      <td>500</td>\n",
       "      <td>4</td>\n",
       "      <td>8</td>\n",
       "      <td>320</td>\n",
       "      <td>0</td>\n",
       "      <td>0</td>\n",
       "      <td>1</td>\n",
       "    </tr>\n",
       "    <tr>\n",
       "      <th>1</th>\n",
       "      <td>550</td>\n",
       "      <td>7</td>\n",
       "      <td>50</td>\n",
       "      <td>380</td>\n",
       "      <td>1</td>\n",
       "      <td>0</td>\n",
       "      <td>0</td>\n",
       "    </tr>\n",
       "    <tr>\n",
       "      <th>2</th>\n",
       "      <td>620</td>\n",
       "      <td>9</td>\n",
       "      <td>7</td>\n",
       "      <td>400</td>\n",
       "      <td>1</td>\n",
       "      <td>0</td>\n",
       "      <td>0</td>\n",
       "    </tr>\n",
       "    <tr>\n",
       "      <th>3</th>\n",
       "      <td>630</td>\n",
       "      <td>5</td>\n",
       "      <td>24</td>\n",
       "      <td>390</td>\n",
       "      <td>0</td>\n",
       "      <td>1</td>\n",
       "      <td>0</td>\n",
       "    </tr>\n",
       "    <tr>\n",
       "      <th>4</th>\n",
       "      <td>665</td>\n",
       "      <td>8</td>\n",
       "      <td>100</td>\n",
       "      <td>385</td>\n",
       "      <td>0</td>\n",
       "      <td>0</td>\n",
       "      <td>1</td>\n",
       "    </tr>\n",
       "    <tr>\n",
       "      <th>5</th>\n",
       "      <td>700</td>\n",
       "      <td>4</td>\n",
       "      <td>8</td>\n",
       "      <td>410</td>\n",
       "      <td>0</td>\n",
       "      <td>1</td>\n",
       "      <td>0</td>\n",
       "    </tr>\n",
       "    <tr>\n",
       "      <th>6</th>\n",
       "      <td>770</td>\n",
       "      <td>10</td>\n",
       "      <td>7</td>\n",
       "      <td>480</td>\n",
       "      <td>0</td>\n",
       "      <td>1</td>\n",
       "      <td>0</td>\n",
       "    </tr>\n",
       "    <tr>\n",
       "      <th>7</th>\n",
       "      <td>880</td>\n",
       "      <td>12</td>\n",
       "      <td>50</td>\n",
       "      <td>600</td>\n",
       "      <td>1</td>\n",
       "      <td>0</td>\n",
       "      <td>0</td>\n",
       "    </tr>\n",
       "    <tr>\n",
       "      <th>8</th>\n",
       "      <td>920</td>\n",
       "      <td>14</td>\n",
       "      <td>8</td>\n",
       "      <td>570</td>\n",
       "      <td>0</td>\n",
       "      <td>0</td>\n",
       "      <td>1</td>\n",
       "    </tr>\n",
       "    <tr>\n",
       "      <th>9</th>\n",
       "      <td>1000</td>\n",
       "      <td>9</td>\n",
       "      <td>24</td>\n",
       "      <td>620</td>\n",
       "      <td>0</td>\n",
       "      <td>1</td>\n",
       "      <td>0</td>\n",
       "    </tr>\n",
       "  </tbody>\n",
       "</table>\n",
       "</div>"
      ],
      "text/plain": [
       "   Size  Floor  BroadbandRate  RentalPrice  EnergyRating_A  EnergyRating_B  \\\n",
       "0   500      4              8          320               0               0   \n",
       "1   550      7             50          380               1               0   \n",
       "2   620      9              7          400               1               0   \n",
       "3   630      5             24          390               0               1   \n",
       "4   665      8            100          385               0               0   \n",
       "5   700      4              8          410               0               1   \n",
       "6   770     10              7          480               0               1   \n",
       "7   880     12             50          600               1               0   \n",
       "8   920     14              8          570               0               0   \n",
       "9  1000      9             24          620               0               1   \n",
       "\n",
       "   EnergyRating_C  \n",
       "0               1  \n",
       "1               0  \n",
       "2               0  \n",
       "3               0  \n",
       "4               1  \n",
       "5               0  \n",
       "6               0  \n",
       "7               0  \n",
       "8               1  \n",
       "9               0  "
      ]
     },
     "execution_count": 123,
     "metadata": {},
     "output_type": "execute_result"
    }
   ],
   "source": [
    "# Second method to tranform EnergyRating to binary continuous features, using the get_dummies() method\n",
    "energyrating_dummies = pd.get_dummies(df.EnergyRating, prefix='EnergyRating')\n",
    "\n",
    "# concatenate the dummy variable columns onto the original DataFrame (axis=0 means rows, axis=1 means columns)\n",
    "df_new_dummies = pd.concat([df_cont, energyrating_dummies], axis=1)\n",
    "df_new_dummies"
   ]
  },
  {
   "cell_type": "code",
   "execution_count": 124,
   "metadata": {},
   "outputs": [
    {
     "data": {
      "text/html": [
       "<div>\n",
       "<style>\n",
       "    .dataframe thead tr:only-child th {\n",
       "        text-align: right;\n",
       "    }\n",
       "\n",
       "    .dataframe thead th {\n",
       "        text-align: left;\n",
       "    }\n",
       "\n",
       "    .dataframe tbody tr th {\n",
       "        vertical-align: top;\n",
       "    }\n",
       "</style>\n",
       "<table border=\"1\" class=\"dataframe\">\n",
       "  <thead>\n",
       "    <tr style=\"text-align: right;\">\n",
       "      <th></th>\n",
       "      <th>Size</th>\n",
       "      <th>Floor</th>\n",
       "      <th>BroadbandRate</th>\n",
       "      <th>RentalPrice</th>\n",
       "      <th>ER_A</th>\n",
       "      <th>ER_B</th>\n",
       "      <th>ER_C</th>\n",
       "    </tr>\n",
       "  </thead>\n",
       "  <tbody>\n",
       "    <tr>\n",
       "      <th>0</th>\n",
       "      <td>-1.354055</td>\n",
       "      <td>-1.262528</td>\n",
       "      <td>-0.679885</td>\n",
       "      <td>-1.284679</td>\n",
       "      <td>-0.621059</td>\n",
       "      <td>-0.774597</td>\n",
       "      <td>1.449138</td>\n",
       "    </tr>\n",
       "    <tr>\n",
       "      <th>1</th>\n",
       "      <td>-1.051134</td>\n",
       "      <td>-0.360722</td>\n",
       "      <td>0.706288</td>\n",
       "      <td>-0.715818</td>\n",
       "      <td>1.449138</td>\n",
       "      <td>-0.774597</td>\n",
       "      <td>-0.621059</td>\n",
       "    </tr>\n",
       "    <tr>\n",
       "      <th>2</th>\n",
       "      <td>-0.627046</td>\n",
       "      <td>0.240481</td>\n",
       "      <td>-0.712889</td>\n",
       "      <td>-0.526197</td>\n",
       "      <td>1.449138</td>\n",
       "      <td>-0.774597</td>\n",
       "      <td>-0.621059</td>\n",
       "    </tr>\n",
       "    <tr>\n",
       "      <th>3</th>\n",
       "      <td>-0.566462</td>\n",
       "      <td>-0.961926</td>\n",
       "      <td>-0.151819</td>\n",
       "      <td>-0.621007</td>\n",
       "      <td>-0.621059</td>\n",
       "      <td>1.161895</td>\n",
       "      <td>-0.621059</td>\n",
       "    </tr>\n",
       "    <tr>\n",
       "      <th>4</th>\n",
       "      <td>-0.354417</td>\n",
       "      <td>-0.060120</td>\n",
       "      <td>2.356494</td>\n",
       "      <td>-0.668412</td>\n",
       "      <td>-0.621059</td>\n",
       "      <td>-0.774597</td>\n",
       "      <td>1.449138</td>\n",
       "    </tr>\n",
       "    <tr>\n",
       "      <th>5</th>\n",
       "      <td>-0.142373</td>\n",
       "      <td>-1.262528</td>\n",
       "      <td>-0.679885</td>\n",
       "      <td>-0.431387</td>\n",
       "      <td>-0.621059</td>\n",
       "      <td>1.161895</td>\n",
       "      <td>-0.621059</td>\n",
       "    </tr>\n",
       "    <tr>\n",
       "      <th>6</th>\n",
       "      <td>0.281716</td>\n",
       "      <td>0.541083</td>\n",
       "      <td>-0.712889</td>\n",
       "      <td>0.232285</td>\n",
       "      <td>-0.621059</td>\n",
       "      <td>1.161895</td>\n",
       "      <td>-0.621059</td>\n",
       "    </tr>\n",
       "    <tr>\n",
       "      <th>7</th>\n",
       "      <td>0.948141</td>\n",
       "      <td>1.142287</td>\n",
       "      <td>0.706288</td>\n",
       "      <td>1.370008</td>\n",
       "      <td>1.449138</td>\n",
       "      <td>-0.774597</td>\n",
       "      <td>-0.621059</td>\n",
       "    </tr>\n",
       "    <tr>\n",
       "      <th>8</th>\n",
       "      <td>1.190478</td>\n",
       "      <td>1.743490</td>\n",
       "      <td>-0.679885</td>\n",
       "      <td>1.085578</td>\n",
       "      <td>-0.621059</td>\n",
       "      <td>-0.774597</td>\n",
       "      <td>1.449138</td>\n",
       "    </tr>\n",
       "    <tr>\n",
       "      <th>9</th>\n",
       "      <td>1.675151</td>\n",
       "      <td>0.240481</td>\n",
       "      <td>-0.151819</td>\n",
       "      <td>1.559629</td>\n",
       "      <td>-0.621059</td>\n",
       "      <td>1.161895</td>\n",
       "      <td>-0.621059</td>\n",
       "    </tr>\n",
       "  </tbody>\n",
       "</table>\n",
       "</div>"
      ],
      "text/plain": [
       "       Size     Floor  BroadbandRate  RentalPrice      ER_A      ER_B  \\\n",
       "0 -1.354055 -1.262528      -0.679885    -1.284679 -0.621059 -0.774597   \n",
       "1 -1.051134 -0.360722       0.706288    -0.715818  1.449138 -0.774597   \n",
       "2 -0.627046  0.240481      -0.712889    -0.526197  1.449138 -0.774597   \n",
       "3 -0.566462 -0.961926      -0.151819    -0.621007 -0.621059  1.161895   \n",
       "4 -0.354417 -0.060120       2.356494    -0.668412 -0.621059 -0.774597   \n",
       "5 -0.142373 -1.262528      -0.679885    -0.431387 -0.621059  1.161895   \n",
       "6  0.281716  0.541083      -0.712889     0.232285 -0.621059  1.161895   \n",
       "7  0.948141  1.142287       0.706288     1.370008  1.449138 -0.774597   \n",
       "8  1.190478  1.743490      -0.679885     1.085578 -0.621059 -0.774597   \n",
       "9  1.675151  0.240481      -0.151819     1.559629 -0.621059  1.161895   \n",
       "\n",
       "       ER_C  \n",
       "0  1.449138  \n",
       "1 -0.621059  \n",
       "2 -0.621059  \n",
       "3 -0.621059  \n",
       "4  1.449138  \n",
       "5 -0.621059  \n",
       "6 -0.621059  \n",
       "7 -0.621059  \n",
       "8  1.449138  \n",
       "9 -0.621059  "
      ]
     },
     "execution_count": 124,
     "metadata": {},
     "output_type": "execute_result"
    }
   ],
   "source": [
    "#Standardise all features (instead of range normalisation, we try the second type of normalisation here)\n",
    "df_new_st = (df_new - df_new.mean()) / df_new.std()\n",
    "df_new_st"
   ]
  },
  {
   "cell_type": "code",
   "execution_count": 125,
   "metadata": {},
   "outputs": [
    {
     "name": "stdout",
     "output_type": "stream",
     "text": [
      "                            OLS Regression Results                            \n",
      "==============================================================================\n",
      "Dep. Variable:            RentalPrice   R-squared:                       0.983\n",
      "Model:                            OLS   Adj. R-squared:                  0.961\n",
      "Method:                 Least Squares   F-statistic:                     45.67\n",
      "Date:                Thu, 08 Mar 2018   Prob (F-statistic):            0.00127\n",
      "Time:                        13:54:10   Log-Likelihood:                 6.6474\n",
      "No. Observations:                  10   AIC:                            -1.295\n",
      "Df Residuals:                       4   BIC:                            0.5206\n",
      "Df Model:                           5                                         \n",
      "Covariance Type:            nonrobust                                         \n",
      "=================================================================================\n",
      "                    coef    std err          t      P>|t|      [0.025      0.975]\n",
      "---------------------------------------------------------------------------------\n",
      "Intercept     -5.551e-17      0.062  -8.92e-16      1.000      -0.173       0.173\n",
      "Size              1.0065      0.142      7.077      0.002       0.612       1.401\n",
      "Floor             0.0005      0.145      0.004      0.997      -0.402       0.403\n",
      "BroadbandRate    -0.0381      0.072     -0.530      0.624      -0.237       0.161\n",
      "ER_A              0.1389      0.059      2.350      0.079      -0.025       0.303\n",
      "ER_B             -0.0795      0.070     -1.127      0.323      -0.275       0.116\n",
      "ER_C             -0.0539      0.050     -1.073      0.344      -0.193       0.086\n",
      "==============================================================================\n",
      "Omnibus:                        1.334   Durbin-Watson:                   2.125\n",
      "Prob(Omnibus):                  0.513   Jarque-Bera (JB):                0.890\n",
      "Skew:                          -0.451   Prob(JB):                        0.641\n",
      "Kurtosis:                       1.849   Cond. No.                     1.58e+16\n",
      "==============================================================================\n",
      "\n",
      "Warnings:\n",
      "[1] Standard Errors assume that the covariance matrix of the errors is correctly specified.\n",
      "[2] The smallest eigenvalue is 7.12e-32. This might indicate that there are\n",
      "strong multicollinearity problems or that the design matrix is singular.\n"
     ]
    },
    {
     "name": "stderr",
     "output_type": "stream",
     "text": [
      "/Users/georgianaifrim/anaconda/envs/comp47350/lib/python3.6/site-packages/scipy/stats/stats.py:1334: UserWarning: kurtosistest only valid for n>=20 ... continuing anyway, n=10\n",
      "  \"anyway, n=%i\" % int(n))\n"
     ]
    }
   ],
   "source": [
    "lm_df_new_st = sm.ols(formula=\"RentalPrice ~  Size + Floor + BroadbandRate + ER_A + ER_B + ER_C\", data=df_new_st).fit()\n",
    "print(lm_df_new_st.summary())"
   ]
  }
 ],
 "metadata": {
  "kernelspec": {
   "display_name": "Python 3",
   "language": "python",
   "name": "python3"
  },
  "language_info": {
   "codemirror_mode": {
    "name": "ipython",
    "version": 3
   },
   "file_extension": ".py",
   "mimetype": "text/x-python",
   "name": "python",
   "nbconvert_exporter": "python",
   "pygments_lexer": "ipython3",
   "version": "3.6.4"
  }
 },
 "nbformat": 4,
 "nbformat_minor": 1
}
